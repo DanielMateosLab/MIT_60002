{
 "cells": [
  {
   "attachments": {},
   "cell_type": "markdown",
   "metadata": {},
   "source": [
    "# Knapstack problem\n",
    "Optimization problem. Filling a limited size container with the best possible combination of items available.\n",
    "\n",
    "Some approaches:\n",
    "- Brute force\n",
    "- Optimistic"
   ]
  },
  {
   "cell_type": "code",
   "execution_count": 5,
   "metadata": {},
   "outputs": [
    {
     "name": "stdout",
     "output_type": "stream",
     "text": [
      "Total value of items taken = 284.0\n",
      "  burger: <100, 354>\n",
      "  pizza: <95, 258>\n",
      "  wine: <89, 123>\n",
      "Total value of items taken = 318.0\n",
      "  apple: <50, 95>\n",
      "  wine: <89, 123>\n",
      "  cola: <79, 150>\n",
      "  beer: <90, 154>\n",
      "  donut: <10, 195>\n",
      "Total value of items taken = 318.0\n",
      "  wine: <89, 123>\n",
      "  beer: <90, 154>\n",
      "  cola: <79, 150>\n",
      "  apple: <50, 95>\n",
      "  donut: <10, 195>\n"
     ]
    }
   ],
   "source": [
    "from typing import Callable, List, Tuple\n",
    "\n",
    "# We define some abstractions to work with the problem\n",
    "class Food(object):\n",
    "  def __init__(self, n, v, w) -> None:\n",
    "      self.name = n\n",
    "      self.value = v\n",
    "      self.calories = w\n",
    "\n",
    "  def get_value(self):\n",
    "    return self.value\n",
    "  \n",
    "  def get_cost(self):\n",
    "    return self.calories\n",
    "  \n",
    "  def density(self):\n",
    "    return self.get_value()/self.get_cost()\n",
    "\n",
    "  def __str__(self) -> str:\n",
    "    return self.name + ': <' + str(self.value) + ', ' + str(self.calories) + '>'\n",
    "\n",
    "def build_menu(names, values, calories):\n",
    "  menu = [] \n",
    "  for i in range(len(values)):\n",
    "    menu.append(Food(names[i], values[i], calories[i]))\n",
    "  return menu\n",
    "\n",
    "\n",
    "def greedy(items: List[Food], max_cost: float, key_function: Callable[[Food], float]) -> Tuple[List[Food], float]:\n",
    "  items_copy = sorted(items, key=key_function, reverse=True)\n",
    "  result = []\n",
    "  total_value, total_cost = 0.0, 0.0\n",
    "  for i in range(len(items_copy)):\n",
    "    if (total_cost + items_copy[i].get_cost()) <= max_cost:\n",
    "      result.append(items_copy[i])\n",
    "      total_cost += items_copy[i].get_cost()\n",
    "      total_value += items_copy[i].get_value()\n",
    "  return (result, total_value)\n",
    "\n",
    "def test_greedy(items, constraint, key_function):\n",
    "  taken, val = greedy(items, constraint, key_function)\n",
    "  print('Total value of items taken =', val)\n",
    "  for item in taken:\n",
    "    print(' ', item)\n",
    "\n",
    "def test_greedy_food():\n",
    "  names = ['wine', 'beer', 'pizza', 'burger', 'fries', 'cola', 'apple', 'donut', 'cake']\n",
    "  values = [89,90,95,100,90,79,50,10]\n",
    "  calories = [123,154,258,354,365,150,95,195]\n",
    "  foods = build_menu(names, values, calories)\n",
    "  test_greedy(foods, 750, Food.get_value)\n",
    "  test_greedy(foods, 750, lambda x: 1/Food.get_cost(x))\n",
    "  test_greedy(foods, 750, Food.density)\n",
    "\n",
    "test_greedy_food()"
   ]
  }
 ],
 "metadata": {
  "kernelspec": {
   "display_name": "Python 3",
   "language": "python",
   "name": "python3"
  },
  "language_info": {
   "codemirror_mode": {
    "name": "ipython",
    "version": 3
   },
   "file_extension": ".py",
   "mimetype": "text/x-python",
   "name": "python",
   "nbconvert_exporter": "python",
   "pygments_lexer": "ipython3",
   "version": "3.11.2"
  },
  "orig_nbformat": 4,
  "vscode": {
   "interpreter": {
    "hash": "27b587d35a938a5c9ed30dead415fcd884cf9552d6255438cee53b617b05e115"
   }
  }
 },
 "nbformat": 4,
 "nbformat_minor": 2
}
